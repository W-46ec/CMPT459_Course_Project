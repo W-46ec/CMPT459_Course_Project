{
 "cells": [
  {
   "cell_type": "code",
   "execution_count": 1,
   "metadata": {},
   "outputs": [],
   "source": [
    "import sys\n",
    "import re\n",
    "import numpy as np\n",
    "import pandas as pd"
   ]
  },
  {
   "cell_type": "markdown",
   "metadata": {},
   "source": [
    "## Load Data"
   ]
  },
  {
   "cell_type": "code",
   "execution_count": 2,
   "metadata": {},
   "outputs": [],
   "source": [
    "# Input/output data files\n",
    "input_file_cases = \"processed_individual_cases_Sep20th2020.csv\"\n",
    "# input_file_locations = \"processed_location_Sep20th2020.csv\"\n",
    "output_file_cases = \"processed_individual_cases_Sep20th2020_cleaned.csv.gz\""
   ]
  },
  {
   "cell_type": "code",
   "execution_count": 3,
   "metadata": {},
   "outputs": [],
   "source": [
    "# Load data from file(s)\n",
    "individual_cases = pd.read_csv(input_file_cases)\n",
    "# locations = pd.read_csv(input_file_locations)"
   ]
  },
  {
   "cell_type": "markdown",
   "metadata": {},
   "source": [
    "## Data Cleaning"
   ]
  },
  {
   "cell_type": "code",
   "execution_count": 4,
   "metadata": {},
   "outputs": [],
   "source": [
    "# # All NaN ages\n",
    "# individual_cases.age[individual_cases['age'].isna()]\n",
    "\n",
    "not_NaN_ages = individual_cases[['age']].dropna()"
   ]
  },
  {
   "cell_type": "markdown",
   "metadata": {},
   "source": [
    "### Convert range to standard format"
   ]
  },
  {
   "cell_type": "code",
   "execution_count": 5,
   "metadata": {},
   "outputs": [],
   "source": [
    "\"\"\"\n",
    "Formats like \"20-29\" are being converted to the standard format.\n",
    "The strategy here is to take the average of the end points.\n",
    "\"\"\"\n",
    "range_re = re.compile(r\"^(\\d+)\\s*-\\s*(\\d+)$\")\n",
    "def range_to_num(s):\n",
    "    if type(s) == str:\n",
    "        m = range_re.match(s)\n",
    "        if m:\n",
    "            num1, num2 = list(map(float, [x.strip() for x in m.group().split('-')]))\n",
    "            return (num1 + num2) / 2\n",
    "        else:\n",
    "            return s\n",
    "    else:\n",
    "        return s\n",
    "\n",
    "not_NaN_ages['age'] = not_NaN_ages['age'].apply(range_to_num)"
   ]
  },
  {
   "cell_type": "markdown",
   "metadata": {},
   "source": [
    "### Remove suffix"
   ]
  },
  {
   "cell_type": "code",
   "execution_count": 6,
   "metadata": {},
   "outputs": [],
   "source": [
    "\"\"\"\n",
    "Remove the '+' or '-' in ages (i.e., convert \"65+\" to 65.0).\n",
    "The strategy here is removing the sign directly.\n",
    "\"\"\"\n",
    "sign_re = re.compile(r\"^(\\d+(\\.\\d+)?\\+?\\-?$)\")\n",
    "def remove_sign(s):\n",
    "    if type(s) == str:\n",
    "        m = sign_re.match(s)\n",
    "        return float(m.group().replace('+', '').replace('-', '')) if m else s\n",
    "    else:\n",
    "        return s\n",
    "\n",
    "not_NaN_ages['age'] = not_NaN_ages['age'].apply(remove_sign)"
   ]
  },
  {
   "cell_type": "markdown",
   "metadata": {},
   "source": [
    "### Convert month to year"
   ]
  },
  {
   "cell_type": "code",
   "execution_count": 7,
   "metadata": {},
   "outputs": [],
   "source": [
    "\"\"\"\n",
    "To make sure the unit of age is in year.\n",
    "Formats like \"18 months\" are being convert to the standard form (number of years).\n",
    "\"\"\"\n",
    "month_re = re.compile(r\"^(\\d+)\\s*month\")\n",
    "def month_to_age(s):\n",
    "    if type(s) == str:\n",
    "        m = month_re.match(s)\n",
    "        return float(m.group().split(' ')[0].strip()) / 12.0 if m else s\n",
    "    else:\n",
    "        return s\n",
    "\n",
    "not_NaN_ages['age'] = not_NaN_ages['age'].apply(month_to_age)"
   ]
  },
  {
   "cell_type": "markdown",
   "metadata": {},
   "source": [
    "### Other formats"
   ]
  },
  {
   "cell_type": "code",
   "execution_count": 8,
   "metadata": {},
   "outputs": [
    {
     "data": {
      "text/html": [
       "<div>\n",
       "<style scoped>\n",
       "    .dataframe tbody tr th:only-of-type {\n",
       "        vertical-align: middle;\n",
       "    }\n",
       "\n",
       "    .dataframe tbody tr th {\n",
       "        vertical-align: top;\n",
       "    }\n",
       "\n",
       "    .dataframe thead th {\n",
       "        text-align: right;\n",
       "    }\n",
       "</style>\n",
       "<table border=\"1\" class=\"dataframe\">\n",
       "  <thead>\n",
       "    <tr style=\"text-align: right;\">\n",
       "      <th></th>\n",
       "      <th>age</th>\n",
       "    </tr>\n",
       "  </thead>\n",
       "  <tbody>\n",
       "  </tbody>\n",
       "</table>\n",
       "</div>"
      ],
      "text/plain": [
       "Empty DataFrame\n",
       "Columns: [age]\n",
       "Index: []"
      ]
     },
     "execution_count": 8,
     "metadata": {},
     "output_type": "execute_result"
    }
   ],
   "source": [
    "\"\"\"\n",
    "If there are any unrecognized formats (i.e., invalid inputs), \n",
    "assign NaN to them to ensure the robustness of the program.\n",
    "\"\"\"\n",
    "# Filter out the inconsistent format\n",
    "isfloat_re = re.compile(r\"^(\\d+(\\.\\d+))$\")\n",
    "def isFloat(s):\n",
    "    if type(s) == float or type(s) == int:\n",
    "        return True\n",
    "    if type(s) == str:\n",
    "        return True if isfloat_re.match(s) else False\n",
    "    else:\n",
    "        return False\n",
    "\n",
    "# Display if there is any\n",
    "not_NaN_ages[~not_NaN_ages['age'].apply(isFloat)]"
   ]
  },
  {
   "cell_type": "code",
   "execution_count": 9,
   "metadata": {},
   "outputs": [],
   "source": [
    "# Assign NaN to them\n",
    "not_NaN_ages['age'] = not_NaN_ages['age'].apply(lambda x: x if isFloat(x) else np.NaN)"
   ]
  },
  {
   "cell_type": "markdown",
   "metadata": {},
   "source": [
    "### Convert to float"
   ]
  },
  {
   "cell_type": "code",
   "execution_count": 10,
   "metadata": {},
   "outputs": [],
   "source": [
    "pd.to_numeric(not_NaN_ages['age']);"
   ]
  },
  {
   "cell_type": "code",
   "execution_count": 11,
   "metadata": {},
   "outputs": [
    {
     "data": {
      "text/html": [
       "<div>\n",
       "<style scoped>\n",
       "    .dataframe tbody tr th:only-of-type {\n",
       "        vertical-align: middle;\n",
       "    }\n",
       "\n",
       "    .dataframe tbody tr th {\n",
       "        vertical-align: top;\n",
       "    }\n",
       "\n",
       "    .dataframe thead th {\n",
       "        text-align: right;\n",
       "    }\n",
       "</style>\n",
       "<table border=\"1\" class=\"dataframe\">\n",
       "  <thead>\n",
       "    <tr style=\"text-align: right;\">\n",
       "      <th></th>\n",
       "      <th>age</th>\n",
       "      <th>sex</th>\n",
       "      <th>province</th>\n",
       "      <th>country</th>\n",
       "      <th>latitude</th>\n",
       "      <th>longitude</th>\n",
       "      <th>date_confirmation</th>\n",
       "      <th>additional_information</th>\n",
       "      <th>source</th>\n",
       "      <th>outcome</th>\n",
       "    </tr>\n",
       "  </thead>\n",
       "  <tbody>\n",
       "    <tr>\n",
       "      <th>0</th>\n",
       "      <td>NaN</td>\n",
       "      <td>NaN</td>\n",
       "      <td>Gujarat</td>\n",
       "      <td>India</td>\n",
       "      <td>23.02776</td>\n",
       "      <td>72.60027</td>\n",
       "      <td>15.04.2020</td>\n",
       "      <td>NaN</td>\n",
       "      <td>https://gujcovid19.gujarat.gov.in/uploads/pres...</td>\n",
       "      <td>hospitalized</td>\n",
       "    </tr>\n",
       "    <tr>\n",
       "      <th>1</th>\n",
       "      <td>21.0</td>\n",
       "      <td>male</td>\n",
       "      <td>Moyobamba</td>\n",
       "      <td>Peru</td>\n",
       "      <td>-6.03271</td>\n",
       "      <td>-76.97230</td>\n",
       "      <td>09.05.2020</td>\n",
       "      <td>NaN</td>\n",
       "      <td>NaN</td>\n",
       "      <td>nonhospitalized</td>\n",
       "    </tr>\n",
       "    <tr>\n",
       "      <th>2</th>\n",
       "      <td>94.0</td>\n",
       "      <td>female</td>\n",
       "      <td>Lima</td>\n",
       "      <td>Peru</td>\n",
       "      <td>-12.04318</td>\n",
       "      <td>-77.02824</td>\n",
       "      <td>15.04.2020</td>\n",
       "      <td>NaN</td>\n",
       "      <td>NaN</td>\n",
       "      <td>nonhospitalized</td>\n",
       "    </tr>\n",
       "    <tr>\n",
       "      <th>3</th>\n",
       "      <td>NaN</td>\n",
       "      <td>NaN</td>\n",
       "      <td>Gujarat</td>\n",
       "      <td>India</td>\n",
       "      <td>23.02776</td>\n",
       "      <td>72.60027</td>\n",
       "      <td>22.05.2020</td>\n",
       "      <td>NaN</td>\n",
       "      <td>https://www.deshgujarat.com/2020/05/22/gujarat...</td>\n",
       "      <td>hospitalized</td>\n",
       "    </tr>\n",
       "    <tr>\n",
       "      <th>4</th>\n",
       "      <td>2.0</td>\n",
       "      <td>female</td>\n",
       "      <td>Coronel Portillo</td>\n",
       "      <td>Peru</td>\n",
       "      <td>-8.40921</td>\n",
       "      <td>-74.55572</td>\n",
       "      <td>30.04.2020</td>\n",
       "      <td>NaN</td>\n",
       "      <td>NaN</td>\n",
       "      <td>nonhospitalized</td>\n",
       "    </tr>\n",
       "    <tr>\n",
       "      <th>...</th>\n",
       "      <td>...</td>\n",
       "      <td>...</td>\n",
       "      <td>...</td>\n",
       "      <td>...</td>\n",
       "      <td>...</td>\n",
       "      <td>...</td>\n",
       "      <td>...</td>\n",
       "      <td>...</td>\n",
       "      <td>...</td>\n",
       "      <td>...</td>\n",
       "    </tr>\n",
       "    <tr>\n",
       "      <th>557359</th>\n",
       "      <td>56.0</td>\n",
       "      <td>male</td>\n",
       "      <td>Callao</td>\n",
       "      <td>Peru</td>\n",
       "      <td>-12.04175</td>\n",
       "      <td>-77.09082</td>\n",
       "      <td>15.04.2020</td>\n",
       "      <td>NaN</td>\n",
       "      <td>NaN</td>\n",
       "      <td>nonhospitalized</td>\n",
       "    </tr>\n",
       "    <tr>\n",
       "      <th>557360</th>\n",
       "      <td>NaN</td>\n",
       "      <td>NaN</td>\n",
       "      <td>Maharashtra</td>\n",
       "      <td>India</td>\n",
       "      <td>18.94017</td>\n",
       "      <td>72.83483</td>\n",
       "      <td>29.05.2020</td>\n",
       "      <td>NaN</td>\n",
       "      <td>https://arogya.maharashtra.gov.in/pdf/ncovidep...</td>\n",
       "      <td>recovered</td>\n",
       "    </tr>\n",
       "    <tr>\n",
       "      <th>557361</th>\n",
       "      <td>NaN</td>\n",
       "      <td>NaN</td>\n",
       "      <td>Maharashtra</td>\n",
       "      <td>India</td>\n",
       "      <td>19.03681</td>\n",
       "      <td>73.01582</td>\n",
       "      <td>19.05.2020</td>\n",
       "      <td>NaN</td>\n",
       "      <td>NaN</td>\n",
       "      <td>recovered</td>\n",
       "    </tr>\n",
       "    <tr>\n",
       "      <th>557362</th>\n",
       "      <td>25.0</td>\n",
       "      <td>female</td>\n",
       "      <td>Tamil Nadu</td>\n",
       "      <td>India</td>\n",
       "      <td>13.08362</td>\n",
       "      <td>80.28252</td>\n",
       "      <td>31.05.2020</td>\n",
       "      <td>NaN</td>\n",
       "      <td>https://stopcorona.tn.gov.in/wp-content/upload...</td>\n",
       "      <td>hospitalized</td>\n",
       "    </tr>\n",
       "    <tr>\n",
       "      <th>557363</th>\n",
       "      <td>NaN</td>\n",
       "      <td>NaN</td>\n",
       "      <td>Rajasthan</td>\n",
       "      <td>India</td>\n",
       "      <td>26.26691</td>\n",
       "      <td>73.03052</td>\n",
       "      <td>08.05.2020</td>\n",
       "      <td>NaN</td>\n",
       "      <td>https://twitter.com/ANI/status/125878720879583...</td>\n",
       "      <td>recovered</td>\n",
       "    </tr>\n",
       "  </tbody>\n",
       "</table>\n",
       "<p>557364 rows × 10 columns</p>\n",
       "</div>"
      ],
      "text/plain": [
       "         age     sex          province country  latitude  longitude  \\\n",
       "0        NaN     NaN           Gujarat   India  23.02776   72.60027   \n",
       "1       21.0    male         Moyobamba    Peru  -6.03271  -76.97230   \n",
       "2       94.0  female              Lima    Peru -12.04318  -77.02824   \n",
       "3        NaN     NaN           Gujarat   India  23.02776   72.60027   \n",
       "4        2.0  female  Coronel Portillo    Peru  -8.40921  -74.55572   \n",
       "...      ...     ...               ...     ...       ...        ...   \n",
       "557359  56.0    male            Callao    Peru -12.04175  -77.09082   \n",
       "557360   NaN     NaN       Maharashtra   India  18.94017   72.83483   \n",
       "557361   NaN     NaN       Maharashtra   India  19.03681   73.01582   \n",
       "557362  25.0  female        Tamil Nadu   India  13.08362   80.28252   \n",
       "557363   NaN     NaN         Rajasthan   India  26.26691   73.03052   \n",
       "\n",
       "       date_confirmation additional_information  \\\n",
       "0             15.04.2020                    NaN   \n",
       "1             09.05.2020                    NaN   \n",
       "2             15.04.2020                    NaN   \n",
       "3             22.05.2020                    NaN   \n",
       "4             30.04.2020                    NaN   \n",
       "...                  ...                    ...   \n",
       "557359        15.04.2020                    NaN   \n",
       "557360        29.05.2020                    NaN   \n",
       "557361        19.05.2020                    NaN   \n",
       "557362        31.05.2020                    NaN   \n",
       "557363        08.05.2020                    NaN   \n",
       "\n",
       "                                                   source          outcome  \n",
       "0       https://gujcovid19.gujarat.gov.in/uploads/pres...     hospitalized  \n",
       "1                                                     NaN  nonhospitalized  \n",
       "2                                                     NaN  nonhospitalized  \n",
       "3       https://www.deshgujarat.com/2020/05/22/gujarat...     hospitalized  \n",
       "4                                                     NaN  nonhospitalized  \n",
       "...                                                   ...              ...  \n",
       "557359                                                NaN  nonhospitalized  \n",
       "557360  https://arogya.maharashtra.gov.in/pdf/ncovidep...        recovered  \n",
       "557361                                                NaN        recovered  \n",
       "557362  https://stopcorona.tn.gov.in/wp-content/upload...     hospitalized  \n",
       "557363  https://twitter.com/ANI/status/125878720879583...        recovered  \n",
       "\n",
       "[557364 rows x 10 columns]"
      ]
     },
     "execution_count": 11,
     "metadata": {},
     "output_type": "execute_result"
    }
   ],
   "source": [
    "# Add the cleaned data back to the original dataset\n",
    "# Modify the original dataset accordingly\n",
    "individual_cases['age'] = not_NaN_ages\n",
    "individual_cases"
   ]
  },
  {
   "cell_type": "markdown",
   "metadata": {},
   "source": [
    "## Output Results"
   ]
  },
  {
   "cell_type": "code",
   "execution_count": 12,
   "metadata": {},
   "outputs": [],
   "source": [
    "individual_cases.to_csv(output_file_cases, index = False, compression = 'gzip')"
   ]
  }
 ],
 "metadata": {
  "kernelspec": {
   "display_name": "Python 3",
   "language": "python",
   "name": "python3"
  },
  "language_info": {
   "codemirror_mode": {
    "name": "ipython",
    "version": 3
   },
   "file_extension": ".py",
   "mimetype": "text/x-python",
   "name": "python",
   "nbconvert_exporter": "python",
   "pygments_lexer": "ipython3",
   "version": "3.6.1"
  }
 },
 "nbformat": 4,
 "nbformat_minor": 4
}
