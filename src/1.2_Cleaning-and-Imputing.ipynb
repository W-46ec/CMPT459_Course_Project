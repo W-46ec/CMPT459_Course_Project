{
 "cells": [
  {
   "cell_type": "code",
   "execution_count": 1,
   "metadata": {},
   "outputs": [],
   "source": [
    "import sys\n",
    "import re\n",
    "import numpy as np\n",
    "import pandas as pd"
   ]
  },
  {
   "cell_type": "code",
   "execution_count": 2,
   "metadata": {},
   "outputs": [],
   "source": [
    "input_file_cases = \"processed_individual_cases_Sep20th2020.csv\"\n",
    "# input_file_locations = \"processed_location_Sep20th2020.csv\""
   ]
  },
  {
   "cell_type": "code",
   "execution_count": 3,
   "metadata": {},
   "outputs": [],
   "source": [
    "individual_cases = pd.read_csv(input_file_cases)\n",
    "locations = pd.read_csv(input_file_locations)"
   ]
  },
  {
   "cell_type": "code",
   "execution_count": 4,
   "metadata": {},
   "outputs": [
    {
     "data": {
      "text/html": [
       "<div>\n",
       "<style scoped>\n",
       "    .dataframe tbody tr th:only-of-type {\n",
       "        vertical-align: middle;\n",
       "    }\n",
       "\n",
       "    .dataframe tbody tr th {\n",
       "        vertical-align: top;\n",
       "    }\n",
       "\n",
       "    .dataframe thead th {\n",
       "        text-align: right;\n",
       "    }\n",
       "</style>\n",
       "<table border=\"1\" class=\"dataframe\">\n",
       "  <thead>\n",
       "    <tr style=\"text-align: right;\">\n",
       "      <th></th>\n",
       "      <th>age</th>\n",
       "    </tr>\n",
       "  </thead>\n",
       "  <tbody>\n",
       "    <tr>\n",
       "      <th>1</th>\n",
       "      <td>21.0</td>\n",
       "    </tr>\n",
       "    <tr>\n",
       "      <th>2</th>\n",
       "      <td>94.0</td>\n",
       "    </tr>\n",
       "    <tr>\n",
       "      <th>4</th>\n",
       "      <td>2.0</td>\n",
       "    </tr>\n",
       "    <tr>\n",
       "      <th>5</th>\n",
       "      <td>29.0</td>\n",
       "    </tr>\n",
       "    <tr>\n",
       "      <th>8</th>\n",
       "      <td>35-59</td>\n",
       "    </tr>\n",
       "    <tr>\n",
       "      <th>...</th>\n",
       "      <td>...</td>\n",
       "    </tr>\n",
       "    <tr>\n",
       "      <th>557352</th>\n",
       "      <td>73.0</td>\n",
       "    </tr>\n",
       "    <tr>\n",
       "      <th>557353</th>\n",
       "      <td>74</td>\n",
       "    </tr>\n",
       "    <tr>\n",
       "      <th>557354</th>\n",
       "      <td>65</td>\n",
       "    </tr>\n",
       "    <tr>\n",
       "      <th>557359</th>\n",
       "      <td>56.0</td>\n",
       "    </tr>\n",
       "    <tr>\n",
       "      <th>557362</th>\n",
       "      <td>25</td>\n",
       "    </tr>\n",
       "  </tbody>\n",
       "</table>\n",
       "<p>260490 rows × 1 columns</p>\n",
       "</div>"
      ],
      "text/plain": [
       "          age\n",
       "1        21.0\n",
       "2        94.0\n",
       "4         2.0\n",
       "5        29.0\n",
       "8       35-59\n",
       "...       ...\n",
       "557352   73.0\n",
       "557353     74\n",
       "557354     65\n",
       "557359   56.0\n",
       "557362     25\n",
       "\n",
       "[260490 rows x 1 columns]"
      ]
     },
     "execution_count": 4,
     "metadata": {},
     "output_type": "execute_result"
    }
   ],
   "source": [
    "# All NaN\n",
    "individual_cases.age[individual_cases['age'].isna()]\n",
    "\n",
    "not_NaN_cases = individual_cases[['age']].dropna() # .reset_index(drop = True)\n",
    "not_NaN_cases"
   ]
  },
  {
   "cell_type": "code",
   "execution_count": 5,
   "metadata": {},
   "outputs": [
    {
     "data": {
      "text/plain": [
       "1         False\n",
       "2         False\n",
       "4         False\n",
       "5         False\n",
       "8           NaN\n",
       "          ...  \n",
       "557352    False\n",
       "557353     True\n",
       "557354     True\n",
       "557359    False\n",
       "557362     True\n",
       "Name: age, Length: 260490, dtype: object"
      ]
     },
     "execution_count": 5,
     "metadata": {},
     "output_type": "execute_result"
    }
   ],
   "source": [
    "# range_re.match(individual_cases.loc[8]['age']).group()\n",
    "not_NaN_cases = individual_cases[['age']].dropna() # .reset_index(drop = True)\n",
    "\n",
    "range_re = re.compile(r\"^(\\d+)\\s*-\\s*(\\d+)$\")\n",
    "def range_to_num(s):\n",
    "    m = range_re.match(s)\n",
    "    if m:\n",
    "        num1, num2 = list(map(int, m.group().split('-')))\n",
    "        return (num1 + num2) / 2\n",
    "    else:\n",
    "        return s\n",
    "\n",
    "not_NaN_cases['age'] = not_NaN_cases['age'].apply(range_to_num)\n",
    "not_NaN_cases['age'].str.isnumeric()"
   ]
  },
  {
   "cell_type": "code",
   "execution_count": 6,
   "metadata": {},
   "outputs": [
    {
     "data": {
      "text/html": [
       "<div>\n",
       "<style scoped>\n",
       "    .dataframe tbody tr th:only-of-type {\n",
       "        vertical-align: middle;\n",
       "    }\n",
       "\n",
       "    .dataframe tbody tr th {\n",
       "        vertical-align: top;\n",
       "    }\n",
       "\n",
       "    .dataframe thead th {\n",
       "        text-align: right;\n",
       "    }\n",
       "</style>\n",
       "<table border=\"1\" class=\"dataframe\">\n",
       "  <thead>\n",
       "    <tr style=\"text-align: right;\">\n",
       "      <th></th>\n",
       "      <th>age</th>\n",
       "    </tr>\n",
       "  </thead>\n",
       "  <tbody>\n",
       "    <tr>\n",
       "      <th>112660</th>\n",
       "      <td>18 month</td>\n",
       "    </tr>\n",
       "    <tr>\n",
       "      <th>272146</th>\n",
       "      <td>4 months</td>\n",
       "    </tr>\n",
       "    <tr>\n",
       "      <th>290795</th>\n",
       "      <td>6 months</td>\n",
       "    </tr>\n",
       "    <tr>\n",
       "      <th>414321</th>\n",
       "      <td>5 month</td>\n",
       "    </tr>\n",
       "    <tr>\n",
       "      <th>490416</th>\n",
       "      <td>11 month</td>\n",
       "    </tr>\n",
       "    <tr>\n",
       "      <th>495326</th>\n",
       "      <td>8 month</td>\n",
       "    </tr>\n",
       "  </tbody>\n",
       "</table>\n",
       "</div>"
      ],
      "text/plain": [
       "             age\n",
       "112660  18 month\n",
       "272146  4 months\n",
       "290795  6 months\n",
       "414321   5 month\n",
       "490416  11 month\n",
       "495326   8 month"
      ]
     },
     "execution_count": 6,
     "metadata": {},
     "output_type": "execute_result"
    }
   ],
   "source": [
    "isfloat_re = re.compile(r\"^(\\d+(\\.\\d+)?\\+?\\-?$)\")\n",
    "def isFloat(s):\n",
    "    if type(s) == float or type(s) == int:\n",
    "        return True\n",
    "    m = isfloat_re.match(s)\n",
    "    return True if m else False\n",
    "\n",
    "not_NaN_cases[~not_NaN_cases['age'].apply(isFloat)]\n",
    "# isfloat_re.match(not_NaN_cases.loc[22]['age'])"
   ]
  }
 ],
 "metadata": {
  "kernelspec": {
   "display_name": "Python 3",
   "language": "python",
   "name": "python3"
  },
  "language_info": {
   "codemirror_mode": {
    "name": "ipython",
    "version": 3
   },
   "file_extension": ".py",
   "mimetype": "text/x-python",
   "name": "python",
   "nbconvert_exporter": "python",
   "pygments_lexer": "ipython3",
   "version": "3.6.1"
  }
 },
 "nbformat": 4,
 "nbformat_minor": 4
}
