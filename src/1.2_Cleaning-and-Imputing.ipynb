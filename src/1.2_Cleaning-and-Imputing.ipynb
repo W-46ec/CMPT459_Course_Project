{
 "cells": [
  {
   "cell_type": "code",
   "execution_count": 1,
   "metadata": {},
   "outputs": [],
   "source": [
    "import sys\n",
    "import re\n",
    "import numpy as np\n",
    "import pandas as pd"
   ]
  },
  {
   "cell_type": "markdown",
   "metadata": {},
   "source": [
    "## Load Data"
   ]
  },
  {
   "cell_type": "code",
   "execution_count": 2,
   "metadata": {},
   "outputs": [],
   "source": [
    "# Input/output data files\n",
    "input_file_cases = \"processed_individual_cases_Sep20th2020.csv\"\n",
    "# input_file_locations = \"processed_location_Sep20th2020.csv\"\n",
    "output_file_cases = \"processed_individual_cases_Sep20th2020_1.2_cleaned-and-imputed-age.csv\""
   ]
  },
  {
   "cell_type": "code",
   "execution_count": 3,
   "metadata": {},
   "outputs": [],
   "source": [
    "# Load data from file(s)\n",
    "individual_cases = pd.read_csv(input_file_cases)\n",
    "# locations = pd.read_csv(input_file_locations)"
   ]
  },
  {
   "cell_type": "markdown",
   "metadata": {},
   "source": [
    "## Data Cleaning"
   ]
  },
  {
   "cell_type": "code",
   "execution_count": 4,
   "metadata": {},
   "outputs": [],
   "source": [
    "# All NaN\n",
    "individual_cases.age[individual_cases['age'].isna()]\n",
    "\n",
    "not_NaN_ages = individual_cases[['age']].dropna()"
   ]
  },
  {
   "cell_type": "markdown",
   "metadata": {},
   "source": [
    "### Convert range to standard format"
   ]
  },
  {
   "cell_type": "code",
   "execution_count": 5,
   "metadata": {},
   "outputs": [],
   "source": [
    "\"\"\"\n",
    "Formats like \"20-29\" are being converted to the standard format.\n",
    "The strategy here is to take the average of the end points.\n",
    "\"\"\"\n",
    "range_re = re.compile(r\"^(\\d+)\\s*-\\s*(\\d+)$\")\n",
    "def range_to_num(s):\n",
    "    if type(s) == str:\n",
    "        m = range_re.match(s)\n",
    "        if m:\n",
    "            num1, num2 = list(map(float, [x.strip() for x in m.group().split('-')]))\n",
    "            return (num1 + num2) / 2\n",
    "        else:\n",
    "            return s\n",
    "    else:\n",
    "        return s\n",
    "\n",
    "not_NaN_ages['age'] = not_NaN_ages['age'].apply(range_to_num)"
   ]
  },
  {
   "cell_type": "markdown",
   "metadata": {},
   "source": [
    "### Remove suffix"
   ]
  },
  {
   "cell_type": "code",
   "execution_count": 6,
   "metadata": {},
   "outputs": [],
   "source": [
    "\"\"\"\n",
    "Remove the '+' or '-' in ages (i.e., convert \"65+\" to 65.0).\n",
    "The strategy here is removing the sign directly.\n",
    "\"\"\"\n",
    "sign_re = re.compile(r\"^(\\d+(\\.\\d+)?\\+?\\-?$)\")\n",
    "def remove_sign(s):\n",
    "    if type(s) == str:\n",
    "        m = sign_re.match(s)\n",
    "        return float(m.group().replace('+', '').replace('-', '')) if m else s\n",
    "    else:\n",
    "        return s\n",
    "\n",
    "not_NaN_ages['age'] = not_NaN_ages['age'].apply(remove_sign)"
   ]
  },
  {
   "cell_type": "markdown",
   "metadata": {},
   "source": [
    "### Convert month to year"
   ]
  },
  {
   "cell_type": "code",
   "execution_count": 7,
   "metadata": {},
   "outputs": [],
   "source": [
    "\"\"\"\n",
    "To make sure the unit of age is in year.\n",
    "Formats like \"18 months\" are being convert to the standard form (number of years).\n",
    "\"\"\"\n",
    "month_re = re.compile(r\"^(\\d+)\\s*month\")\n",
    "def month_to_age(s):\n",
    "    if type(s) == str:\n",
    "        m = month_re.match(s)\n",
    "        return float(m.group().split(' ')[0].strip()) / 12.0 if m else s\n",
    "    else:\n",
    "        return s\n",
    "\n",
    "not_NaN_ages['age'] = not_NaN_ages['age'].apply(month_to_age)"
   ]
  },
  {
   "cell_type": "markdown",
   "metadata": {},
   "source": [
    "### Other formats"
   ]
  },
  {
   "cell_type": "code",
   "execution_count": 8,
   "metadata": {},
   "outputs": [
    {
     "data": {
      "text/html": [
       "<div>\n",
       "<style scoped>\n",
       "    .dataframe tbody tr th:only-of-type {\n",
       "        vertical-align: middle;\n",
       "    }\n",
       "\n",
       "    .dataframe tbody tr th {\n",
       "        vertical-align: top;\n",
       "    }\n",
       "\n",
       "    .dataframe thead th {\n",
       "        text-align: right;\n",
       "    }\n",
       "</style>\n",
       "<table border=\"1\" class=\"dataframe\">\n",
       "  <thead>\n",
       "    <tr style=\"text-align: right;\">\n",
       "      <th></th>\n",
       "      <th>age</th>\n",
       "    </tr>\n",
       "  </thead>\n",
       "  <tbody>\n",
       "  </tbody>\n",
       "</table>\n",
       "</div>"
      ],
      "text/plain": [
       "Empty DataFrame\n",
       "Columns: [age]\n",
       "Index: []"
      ]
     },
     "execution_count": 8,
     "metadata": {},
     "output_type": "execute_result"
    }
   ],
   "source": [
    "\"\"\"\n",
    "If there are any unrecognized formats (i.e., invalid inputs), \n",
    "assign NaN to them to ensure the robustness of the program.\n",
    "\"\"\"\n",
    "# Filter out the inconsistent format\n",
    "isfloat_re = re.compile(r\"^(\\d+(\\.\\d+))$\")\n",
    "def isFloat(s):\n",
    "    if type(s) == float or type(s) == int:\n",
    "        return True\n",
    "    if type(s) == str:\n",
    "        return True if isfloat_re.match(s) else False\n",
    "    else:\n",
    "        return False\n",
    "\n",
    "# Display if there is any\n",
    "not_NaN_ages[~not_NaN_ages['age'].apply(isFloat)]"
   ]
  },
  {
   "cell_type": "code",
   "execution_count": 9,
   "metadata": {},
   "outputs": [],
   "source": [
    "# Assign NaN to them\n",
    "not_NaN_ages['age'] = not_NaN_ages['age'].apply(lambda x: x if isFloat(x) else np.NaN)"
   ]
  },
  {
   "cell_type": "markdown",
   "metadata": {},
   "source": [
    "### Convert to float"
   ]
  },
  {
   "cell_type": "code",
   "execution_count": 13,
   "metadata": {},
   "outputs": [],
   "source": [
    "pd.to_numeric(not_NaN_ages['age']);"
   ]
  },
  {
   "cell_type": "code",
   "execution_count": 14,
   "metadata": {},
   "outputs": [
    {
     "data": {
      "text/plain": [
       "0          NaN\n",
       "1         21.0\n",
       "2         94.0\n",
       "3          NaN\n",
       "4          2.0\n",
       "          ... \n",
       "557359    56.0\n",
       "557360     NaN\n",
       "557361     NaN\n",
       "557362    25.0\n",
       "557363     NaN\n",
       "Name: age, Length: 557364, dtype: float64"
      ]
     },
     "execution_count": 14,
     "metadata": {},
     "output_type": "execute_result"
    }
   ],
   "source": [
    "# Add the cleaned data back to the original dataset\n",
    "# Modify the original dataset accordingly\n",
    "individual_cases['age'] = not_NaN_ages\n",
    "individual_cases['age']"
   ]
  },
  {
   "cell_type": "markdown",
   "metadata": {},
   "source": [
    "## Impute Missing Values"
   ]
  },
  {
   "cell_type": "code",
   "execution_count": null,
   "metadata": {},
   "outputs": [],
   "source": []
  }
 ],
 "metadata": {
  "kernelspec": {
   "display_name": "Python 3",
   "language": "python",
   "name": "python3"
  },
  "language_info": {
   "codemirror_mode": {
    "name": "ipython",
    "version": 3
   },
   "file_extension": ".py",
   "mimetype": "text/x-python",
   "name": "python",
   "nbconvert_exporter": "python",
   "pygments_lexer": "ipython3",
   "version": "3.6.1"
  }
 },
 "nbformat": 4,
 "nbformat_minor": 4
}
