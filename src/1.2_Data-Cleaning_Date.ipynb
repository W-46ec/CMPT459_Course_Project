{
 "cells": [
  {
   "cell_type": "code",
   "execution_count": 1,
   "metadata": {},
   "outputs": [],
   "source": [
    "import sys\n",
    "import re\n",
    "import numpy as np\n",
    "import pandas as pd"
   ]
  },
  {
   "cell_type": "markdown",
   "metadata": {},
   "source": [
    "## Load Data"
   ]
  },
  {
   "cell_type": "code",
   "execution_count": 2,
   "metadata": {},
   "outputs": [],
   "source": [
    "# Input/output data files\n",
    "input_file_cases = \"processed_individual_cases_Sep20th2020_cleaned.csv.gz\"\n",
    "# input_file_locations = \"processed_location_Sep20th2020.csv\"\n",
    "output_file_cases = \"processed_individual_cases_Sep20th2020_cleaned.csv.gz\""
   ]
  },
  {
   "cell_type": "code",
   "execution_count": 3,
   "metadata": {},
   "outputs": [],
   "source": [
    "# Load data from file(s)\n",
    "individual_cases = pd.read_csv(input_file_cases, compression = 'gzip')\n",
    "# locations = pd.read_csv(input_file_locations)"
   ]
  },
  {
   "cell_type": "markdown",
   "metadata": {},
   "source": [
    "## Data Cleaning"
   ]
  },
  {
   "cell_type": "code",
   "execution_count": 4,
   "metadata": {},
   "outputs": [],
   "source": [
    "# Select the non-NaN records\n",
    "non_NaN_dates = individual_cases[['date_confirmation']].dropna()"
   ]
  },
  {
   "cell_type": "markdown",
   "metadata": {},
   "source": [
    "### Convert Date"
   ]
  },
  {
   "cell_type": "code",
   "execution_count": 5,
   "metadata": {},
   "outputs": [],
   "source": [
    "\"\"\"\n",
    "Convert from range to a specific data.\n",
    "The strategy here is to take the last day of the range.\n",
    "\"\"\"\n",
    "range_re = re.compile(r\"^(\\d\\d).(\\d\\d).(\\d\\d\\d\\d)\\s*-\\s*(\\d\\d).(\\d\\d).(\\d\\d\\d\\d)$\")\n",
    "def range_to_date(s):\n",
    "    m = range_re.match(s)\n",
    "    if m:\n",
    "        return m.group().split('-')[-1].strip()\n",
    "    return s\n",
    "\n",
    "non_NaN_dates['date_confirmation'] = non_NaN_dates['date_confirmation'].apply(range_to_date)"
   ]
  },
  {
   "cell_type": "markdown",
   "metadata": {},
   "source": [
    "### Other formats"
   ]
  },
  {
   "cell_type": "code",
   "execution_count": 6,
   "metadata": {},
   "outputs": [
    {
     "data": {
      "text/html": [
       "<div>\n",
       "<style scoped>\n",
       "    .dataframe tbody tr th:only-of-type {\n",
       "        vertical-align: middle;\n",
       "    }\n",
       "\n",
       "    .dataframe tbody tr th {\n",
       "        vertical-align: top;\n",
       "    }\n",
       "\n",
       "    .dataframe thead th {\n",
       "        text-align: right;\n",
       "    }\n",
       "</style>\n",
       "<table border=\"1\" class=\"dataframe\">\n",
       "  <thead>\n",
       "    <tr style=\"text-align: right;\">\n",
       "      <th></th>\n",
       "      <th>date_confirmation</th>\n",
       "    </tr>\n",
       "  </thead>\n",
       "  <tbody>\n",
       "  </tbody>\n",
       "</table>\n",
       "</div>"
      ],
      "text/plain": [
       "Empty DataFrame\n",
       "Columns: [date_confirmation]\n",
       "Index: []"
      ]
     },
     "execution_count": 6,
     "metadata": {},
     "output_type": "execute_result"
    }
   ],
   "source": [
    "date_re = re.compile(r\"^(\\d\\d).(\\d\\d).(\\d\\d\\d\\d)$\")\n",
    "def valid_date(s):\n",
    "    if type(s) == str:\n",
    "        return True if date_re.match(s) else False\n",
    "    else:\n",
    "        return False\n",
    "\n",
    "non_NaN_dates[~non_NaN_dates['date_confirmation'].apply(valid_date)]"
   ]
  },
  {
   "cell_type": "code",
   "execution_count": 7,
   "metadata": {},
   "outputs": [],
   "source": [
    "# Assign NaN to them\n",
    "non_NaN_dates['date_confirmation'] = non_NaN_dates['date_confirmation'].apply(\n",
    "    lambda x: x if valid_date(x) else np.NaN\n",
    ")"
   ]
  },
  {
   "cell_type": "code",
   "execution_count": 8,
   "metadata": {},
   "outputs": [],
   "source": [
    "# Add the cleaned data back to the original dataset\n",
    "individual_cases['date_confirmation'] = non_NaN_dates"
   ]
  },
  {
   "cell_type": "markdown",
   "metadata": {},
   "source": [
    "## Output Results"
   ]
  },
  {
   "cell_type": "code",
   "execution_count": 9,
   "metadata": {},
   "outputs": [],
   "source": [
    "individual_cases.to_csv(output_file_cases, index = False, compression = 'gzip')"
   ]
  }
 ],
 "metadata": {
  "kernelspec": {
   "display_name": "Python 3",
   "language": "python",
   "name": "python3"
  },
  "language_info": {
   "codemirror_mode": {
    "name": "ipython",
    "version": 3
   },
   "file_extension": ".py",
   "mimetype": "text/x-python",
   "name": "python",
   "nbconvert_exporter": "python",
   "pygments_lexer": "ipython3",
   "version": "3.6.1"
  }
 },
 "nbformat": 4,
 "nbformat_minor": 4
}
