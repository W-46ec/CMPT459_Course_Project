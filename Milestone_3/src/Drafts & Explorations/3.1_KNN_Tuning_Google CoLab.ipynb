{
  "nbformat": 4,
  "nbformat_minor": 0,
  "metadata": {
    "colab": {
      "name": "KNN_Tuning.ipynb",
      "provenance": [],
      "collapsed_sections": []
    },
    "kernelspec": {
      "display_name": "Python 3",
      "name": "python3"
    }
  },
  "cells": [
    {
      "cell_type": "code",
      "metadata": {
        "colab": {
          "base_uri": "https://localhost:8080/"
        },
        "id": "wiIdYN2raMda",
        "outputId": "47a772c0-1737-413e-cea2-8e07d6bfbf11"
      },
      "source": [
        "from google.colab import drive\r\n",
        "drive.mount('/content/drive', force_remount = False)"
      ],
      "execution_count": null,
      "outputs": [
        {
          "output_type": "stream",
          "text": [
            "Mounted at /content/drive\n"
          ],
          "name": "stdout"
        }
      ]
    },
    {
      "cell_type": "code",
      "metadata": {
        "id": "KcNDoNz0aj1t"
      },
      "source": [
        "import os\r\n",
        "base_path = \"/content/drive/My Drive/data\"\r\n",
        "os.chdir(base_path);"
      ],
      "execution_count": null,
      "outputs": []
    },
    {
      "cell_type": "code",
      "metadata": {
        "id": "POM0EI8tauUn"
      },
      "source": [
        "import numpy as np\r\n",
        "import pandas as pd\r\n",
        "import scipy.stats as stats\r\n",
        "from scipy.stats import randint\r\n",
        "from time import time\r\n",
        "from sklearn.ensemble import AdaBoostClassifier\r\n",
        "from sklearn.neighbors import KNeighborsClassifier\r\n",
        "from sklearn.model_selection import RandomizedSearchCV\r\n",
        "from sklearn.metrics import make_scorer, accuracy_score, recall_score\r\n",
        "from pprint import pprint"
      ],
      "execution_count": null,
      "outputs": []
    },
    {
      "cell_type": "code",
      "metadata": {
        "id": "eXLzbXJ2a0A-"
      },
      "source": [
        "X_train_inputfile = \"./3.1_X_train.csv.gz\"\r\n",
        "X_valid_inputfile = \"./3.1_X_valid.csv.gz\"\r\n",
        "y_train_inputfile = \"./3.1_y_train.csv.gz\"\r\n",
        "y_valid_inputfile = \"./3.1_y_valid.csv.gz\"\r\n",
        "X_train = pd.read_csv(X_train_inputfile)\r\n",
        "X_valid = pd.read_csv(X_valid_inputfile)\r\n",
        "y_train = pd.read_csv(y_train_inputfile).transpose().values[0]\r\n",
        "y_valid = pd.read_csv(y_valid_inputfile).transpose().values[0]"
      ],
      "execution_count": null,
      "outputs": []
    },
    {
      "cell_type": "code",
      "metadata": {
        "id": "zJOlpdeTa24_"
      },
      "source": [
        "knn_model = KNeighborsClassifier(algorithm = 'auto')"
      ],
      "execution_count": null,
      "outputs": []
    },
    {
      "cell_type": "code",
      "metadata": {
        "id": "n5dwe_kubQk4"
      },
      "source": [
        "param_dist = {\r\n",
        "    'n_neighbors': randint(5, 100),\r\n",
        "    'leaf_size': randint(10, 500)\r\n",
        "}"
      ],
      "execution_count": null,
      "outputs": []
    },
    {
      "cell_type": "code",
      "metadata": {
        "id": "U9WB9q_fbXBa"
      },
      "source": [
        "n_iter_search = 50"
      ],
      "execution_count": null,
      "outputs": []
    },
    {
      "cell_type": "code",
      "metadata": {
        "id": "kurPZqyJbYaH"
      },
      "source": [
        "def _recall_on_deceased(y, y_pred, **kwargs):\r\n",
        "    y_series = pd.Series(y)\r\n",
        "    y_deceased = y_series[y_series == 0]\r\n",
        "    y_pred_deceased = pd.Series(y_pred)[y_deceased.index]\r\n",
        "    return recall_score(\r\n",
        "        y_true = y_deceased, \r\n",
        "        y_pred = y_pred_deceased, \r\n",
        "        average = 'micro'\r\n",
        "    )\r\n",
        "\r\n",
        "scoring = {\r\n",
        "    'Accuracy': make_scorer(accuracy_score), \r\n",
        "    'Recall': make_scorer(\r\n",
        "        lambda y, y_pred, **kwargs:\r\n",
        "            recall_score(\r\n",
        "                y_true = y, \r\n",
        "                y_pred = y_pred, \r\n",
        "                average = 'micro'\r\n",
        "            )\r\n",
        "    ), \r\n",
        "    'Recall_on_deceased': make_scorer(\r\n",
        "        lambda y, y_pred, **kwargs:\r\n",
        "            _recall_on_deceased(y, y_pred, **kwargs)\r\n",
        "    )\r\n",
        "}"
      ],
      "execution_count": null,
      "outputs": []
    },
    {
      "cell_type": "code",
      "metadata": {
        "id": "pcYK_TjbbZFP"
      },
      "source": [
        "random_search = RandomizedSearchCV(\r\n",
        "    knn_model, \r\n",
        "    param_distributions = param_dist, \r\n",
        "    n_iter = n_iter_search,\r\n",
        "    scoring = scoring, \r\n",
        "    refit = 'Recall_on_deceased'\r\n",
        ")"
      ],
      "execution_count": null,
      "outputs": []
    },
    {
      "cell_type": "code",
      "metadata": {
        "colab": {
          "base_uri": "https://localhost:8080/"
        },
        "id": "4M4IpZi3bfZ-",
        "outputId": "3dd9e8f2-10e0-4f75-a6a1-3d5217dd0e30"
      },
      "source": [
        "%time random_search.fit(X_train, y_train)"
      ],
      "execution_count": null,
      "outputs": [
        {
          "output_type": "stream",
          "text": [
            "CPU times: user 1h 41min 25s, sys: 7.9 s, total: 1h 41min 33s\n",
            "Wall time: 1h 41min 43s\n"
          ],
          "name": "stdout"
        },
        {
          "output_type": "execute_result",
          "data": {
            "text/plain": [
              "RandomizedSearchCV(cv=None, error_score=nan,\n",
              "                   estimator=KNeighborsClassifier(algorithm='auto',\n",
              "                                                  leaf_size=30,\n",
              "                                                  metric='minkowski',\n",
              "                                                  metric_params=None,\n",
              "                                                  n_jobs=None, n_neighbors=5,\n",
              "                                                  p=2, weights='uniform'),\n",
              "                   iid='deprecated', n_iter=50, n_jobs=None,\n",
              "                   param_distributions={'leaf_size': <scipy.stats._distn_infrastructure.rv_frozen object at 0x7f6b530ed9e8>,\n",
              "                                        'n_neighbors': <scipy.stats._distn_infrastructure.rv_frozen object at 0x7f6b618d5198>},\n",
              "                   pre_dispatch='2*n_jobs', random_state=None,\n",
              "                   refit='Recall_on_deceased', return_train_score=False,\n",
              "                   scoring={'Accuracy': make_scorer(accuracy_score),\n",
              "                            'Recall': make_scorer(<lambda>),\n",
              "                            'Recall_on_deceased': make_scorer(<lambda>)},\n",
              "                   verbose=0)"
            ]
          },
          "metadata": {
            "tags": []
          },
          "execution_count": 10
        }
      ]
    },
    {
      "cell_type": "code",
      "metadata": {
        "colab": {
          "base_uri": "https://localhost:8080/"
        },
        "id": "M7xh_6hibiQy",
        "outputId": "c3d26ae7-7ba9-4e15-deae-8205e764177d"
      },
      "source": [
        "def report(results, n_top = 5):\r\n",
        "    for i in range(1, n_top + 1):\r\n",
        "        candidates = np.flatnonzero(results['rank_test_Recall_on_deceased'] == i)\r\n",
        "        for candidate in candidates:\r\n",
        "            print(\"Model with rank: {0}\".format(i))\r\n",
        "            print(\"Accuracy: {0:.3f}\".format(results['mean_test_Accuracy'][candidate]))\r\n",
        "            print(\"Overall recall: {0:.3f}\".format(results['mean_test_Recall'][candidate]))\r\n",
        "            print(\"Recall on 'deceased': {0:.3f}\".format(results['mean_test_Recall_on_deceased'][candidate]))\r\n",
        "            print(\"Parameters: {0}\".format(results['params'][candidate]))\r\n",
        "            print(\"\")\r\n",
        "\r\n",
        "report(random_search.cv_results_)"
      ],
      "execution_count": null,
      "outputs": [
        {
          "output_type": "stream",
          "text": [
            "Model with rank: 1\n",
            "Accuracy: 0.768\n",
            "Overall recall: 0.768\n",
            "Recall on 'deceased': 0.017\n",
            "Parameters: {'leaf_size': 329, 'n_neighbors': 5}\n",
            "\n",
            "Model with rank: 2\n",
            "Accuracy: 0.781\n",
            "Overall recall: 0.781\n",
            "Recall on 'deceased': 0.016\n",
            "Parameters: {'leaf_size': 193, 'n_neighbors': 6}\n",
            "\n",
            "Model with rank: 2\n",
            "Accuracy: 0.781\n",
            "Overall recall: 0.781\n",
            "Recall on 'deceased': 0.016\n",
            "Parameters: {'leaf_size': 98, 'n_neighbors': 6}\n",
            "\n",
            "Model with rank: 4\n",
            "Accuracy: 0.775\n",
            "Overall recall: 0.775\n",
            "Recall on 'deceased': 0.012\n",
            "Parameters: {'leaf_size': 151, 'n_neighbors': 7}\n",
            "\n",
            "Model with rank: 5\n",
            "Accuracy: 0.788\n",
            "Overall recall: 0.788\n",
            "Recall on 'deceased': 0.010\n",
            "Parameters: {'leaf_size': 152, 'n_neighbors': 12}\n",
            "\n",
            "Model with rank: 5\n",
            "Accuracy: 0.788\n",
            "Overall recall: 0.788\n",
            "Recall on 'deceased': 0.010\n",
            "Parameters: {'leaf_size': 494, 'n_neighbors': 12}\n",
            "\n"
          ],
          "name": "stdout"
        }
      ]
    },
    {
      "cell_type": "code",
      "metadata": {
        "id": "WkWgPRQDvCL6",
        "colab": {
          "base_uri": "https://localhost:8080/"
        },
        "outputId": "f5326915-a0d4-495c-e12d-e0a9919649f2"
      },
      "source": [
        "from collections import Counter\r\n",
        "Counter(random_search.predict(X_train))"
      ],
      "execution_count": null,
      "outputs": [
        {
          "output_type": "execute_result",
          "data": {
            "text/plain": [
              "Counter({0: 743, 1: 171430, 2: 109964, 3: 50208})"
            ]
          },
          "metadata": {
            "tags": []
          },
          "execution_count": 12
        }
      ]
    },
    {
      "cell_type": "code",
      "metadata": {
        "id": "ODborJZ2vG_Y",
        "colab": {
          "base_uri": "https://localhost:8080/"
        },
        "outputId": "9eb7a30d-e43f-4968-e697-89f4844eabac"
      },
      "source": [
        "random_search.cv_results_['mean_test_Recall_on_deceased']"
      ],
      "execution_count": null,
      "outputs": [
        {
          "output_type": "execute_result",
          "data": {
            "text/plain": [
              "array([0.00619888, 0.        , 0.        , 0.        , 0.01162224,\n",
              "       0.00594015, 0.01601267, 0.        , 0.        , 0.        ,\n",
              "       0.        , 0.        , 0.00258231, 0.0043911 , 0.        ,\n",
              "       0.        , 0.0043911 , 0.01007252, 0.01007252, 0.00723181,\n",
              "       0.        , 0.00542402, 0.        , 0.00516596, 0.        ,\n",
              "       0.        , 0.0002584 , 0.        , 0.00516596, 0.0043911 ,\n",
              "       0.01704526, 0.        , 0.        , 0.00490756, 0.00697374,\n",
              "       0.        , 0.        , 0.        , 0.        , 0.00723181,\n",
              "       0.        , 0.        , 0.        , 0.00774794, 0.00129199,\n",
              "       0.        , 0.00774794, 0.0002584 , 0.01601267, 0.00619888])"
            ]
          },
          "metadata": {
            "tags": []
          },
          "execution_count": 13
        }
      ]
    },
    {
      "cell_type": "code",
      "metadata": {
        "id": "7CKIIzxN2rvQ"
      },
      "source": [
        "import pickle\r\n",
        "knn_pkl = './KNN_rsCV.pkl'\r\n",
        "pickle.dump(random_search.best_estimator_, open(knn_pkl, 'wb'))"
      ],
      "execution_count": null,
      "outputs": []
    }
  ]
}