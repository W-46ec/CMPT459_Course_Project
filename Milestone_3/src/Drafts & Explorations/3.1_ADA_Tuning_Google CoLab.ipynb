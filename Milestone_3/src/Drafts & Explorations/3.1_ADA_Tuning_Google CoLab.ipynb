{
  "nbformat": 4,
  "nbformat_minor": 0,
  "metadata": {
    "colab": {
      "name": "ADA_Tuning.ipynb",
      "provenance": [],
      "collapsed_sections": []
    },
    "kernelspec": {
      "display_name": "Python 3",
      "name": "python3"
    }
  },
  "cells": [
    {
      "cell_type": "code",
      "metadata": {
        "colab": {
          "base_uri": "https://localhost:8080/"
        },
        "id": "wiIdYN2raMda",
        "outputId": "f050b672-d4e5-480a-bedc-5c9e07479004"
      },
      "source": [
        "from google.colab import drive\r\n",
        "drive.mount('/content/drive', force_remount = False)"
      ],
      "execution_count": null,
      "outputs": [
        {
          "output_type": "stream",
          "text": [
            "Drive already mounted at /content/drive; to attempt to forcibly remount, call drive.mount(\"/content/drive\", force_remount=True).\n"
          ],
          "name": "stdout"
        }
      ]
    },
    {
      "cell_type": "code",
      "metadata": {
        "id": "KcNDoNz0aj1t"
      },
      "source": [
        "import os\r\n",
        "base_path = \"/content/drive/My Drive/data\"\r\n",
        "os.chdir(base_path);"
      ],
      "execution_count": null,
      "outputs": []
    },
    {
      "cell_type": "code",
      "metadata": {
        "id": "POM0EI8tauUn"
      },
      "source": [
        "import numpy as np\r\n",
        "import pandas as pd\r\n",
        "import scipy.stats as stats\r\n",
        "from scipy.stats import randint\r\n",
        "from time import time\r\n",
        "from sklearn.tree import DecisionTreeClassifier\r\n",
        "from sklearn.ensemble import AdaBoostClassifier\r\n",
        "from sklearn.neighbors import KNeighborsClassifier\r\n",
        "from sklearn.model_selection import RandomizedSearchCV\r\n",
        "from sklearn.metrics import make_scorer, accuracy_score, recall_score\r\n",
        "from pprint import pprint"
      ],
      "execution_count": null,
      "outputs": []
    },
    {
      "cell_type": "code",
      "metadata": {
        "id": "eXLzbXJ2a0A-"
      },
      "source": [
        "X_train_inputfile = \"./3.1_X_train.csv.gz\"\r\n",
        "X_valid_inputfile = \"./3.1_X_valid.csv.gz\"\r\n",
        "y_train_inputfile = \"./3.1_y_train.csv.gz\"\r\n",
        "y_valid_inputfile = \"./3.1_y_valid.csv.gz\"\r\n",
        "X_train = pd.read_csv(X_train_inputfile)\r\n",
        "X_valid = pd.read_csv(X_valid_inputfile)\r\n",
        "y_train = pd.read_csv(y_train_inputfile).transpose().values[0]\r\n",
        "y_valid = pd.read_csv(y_valid_inputfile).transpose().values[0]"
      ],
      "execution_count": null,
      "outputs": []
    },
    {
      "cell_type": "code",
      "metadata": {
        "id": "zJOlpdeTa24_"
      },
      "source": [
        "dtree = DecisionTreeClassifier()\r\n",
        "ada_model = AdaBoostClassifier(base_estimator=dtree)"
      ],
      "execution_count": null,
      "outputs": []
    },
    {
      "cell_type": "code",
      "metadata": {
        "id": "n5dwe_kubQk4"
      },
      "source": [
        "param_dist = {\r\n",
        "    \"base_estimator__max_depth\" : randint(50,200),\r\n",
        "    \"n_estimators\": randint(50, 300),\r\n",
        "    \"learning_rate\": stats.uniform(0.1, 1)\r\n",
        "}"
      ],
      "execution_count": null,
      "outputs": []
    },
    {
      "cell_type": "code",
      "metadata": {
        "id": "U9WB9q_fbXBa"
      },
      "source": [
        "n_iter_search = 10"
      ],
      "execution_count": null,
      "outputs": []
    },
    {
      "cell_type": "code",
      "metadata": {
        "id": "kurPZqyJbYaH"
      },
      "source": [
        "def _recall_on_deceased(y, y_pred, **kwargs):\r\n",
        "    y_series = pd.Series(y)\r\n",
        "    y_deceased = y_series[y_series == 0]\r\n",
        "    y_pred_deceased = pd.Series(y_pred)[y_deceased.index]\r\n",
        "    return recall_score(\r\n",
        "        y_true = y_deceased, \r\n",
        "        y_pred = y_pred_deceased, \r\n",
        "        average = 'micro'\r\n",
        "    )\r\n",
        "\r\n",
        "scoring = {\r\n",
        "    'Accuracy': make_scorer(accuracy_score), \r\n",
        "    'Recall': make_scorer(\r\n",
        "        lambda y, y_pred, **kwargs:\r\n",
        "            recall_score(\r\n",
        "                y_true = y, \r\n",
        "                y_pred = y_pred, \r\n",
        "                average = 'micro'\r\n",
        "            )\r\n",
        "    ), \r\n",
        "    'Recall_on_deceased': make_scorer(\r\n",
        "        lambda y, y_pred, **kwargs:\r\n",
        "            _recall_on_deceased(y, y_pred, **kwargs)\r\n",
        "    )\r\n",
        "}"
      ],
      "execution_count": null,
      "outputs": []
    },
    {
      "cell_type": "code",
      "metadata": {
        "id": "pcYK_TjbbZFP"
      },
      "source": [
        "random_search = RandomizedSearchCV(\r\n",
        "    ada_model, \r\n",
        "    param_distributions = param_dist, \r\n",
        "    n_iter = n_iter_search, \r\n",
        "    n_jobs = -1,\r\n",
        "    pre_dispatch='2*n_jobs',\r\n",
        "    scoring = scoring, \r\n",
        "    refit = 'Recall_on_deceased'\r\n",
        ")"
      ],
      "execution_count": null,
      "outputs": []
    },
    {
      "cell_type": "code",
      "metadata": {
        "colab": {
          "base_uri": "https://localhost:8080/"
        },
        "id": "4M4IpZi3bfZ-",
        "outputId": "46597f5b-ede1-4060-e588-d7d0dd75714b"
      },
      "source": [
        "%time random_search.fit(X_train, y_train)"
      ],
      "execution_count": null,
      "outputs": [
        {
          "output_type": "stream",
          "text": [
            "/usr/local/lib/python3.6/dist-packages/joblib/externals/loky/process_executor.py:691: UserWarning: A worker stopped while some jobs were given to the executor. This can be caused by a too short worker timeout or by a memory leak.\n",
            "  \"timeout or by a memory leak.\", UserWarning\n"
          ],
          "name": "stderr"
        },
        {
          "output_type": "stream",
          "text": [
            "CPU times: user 3min 24s, sys: 1.17 s, total: 3min 25s\n",
            "Wall time: 1h 50min 45s\n"
          ],
          "name": "stdout"
        },
        {
          "output_type": "execute_result",
          "data": {
            "text/plain": [
              "RandomizedSearchCV(cv=None, error_score=nan,\n",
              "                   estimator=AdaBoostClassifier(algorithm='SAMME.R',\n",
              "                                                base_estimator=DecisionTreeClassifier(ccp_alpha=0.0,\n",
              "                                                                                      class_weight=None,\n",
              "                                                                                      criterion='gini',\n",
              "                                                                                      max_depth=None,\n",
              "                                                                                      max_features=None,\n",
              "                                                                                      max_leaf_nodes=None,\n",
              "                                                                                      min_impurity_decrease=0.0,\n",
              "                                                                                      min_impurity_split=None,\n",
              "                                                                                      min_samples_leaf=1,\n",
              "                                                                                      min_samples_split=2,\n",
              "                                                                                      min_weight_fraction_leaf=0.0,...\n",
              "                                        'learning_rate': <scipy.stats._distn_infrastructure.rv_frozen object at 0x7fdf58e6e358>,\n",
              "                                        'n_estimators': <scipy.stats._distn_infrastructure.rv_frozen object at 0x7fdf58dc4f28>},\n",
              "                   pre_dispatch='2*n_jobs', random_state=None,\n",
              "                   refit='Recall_on_deceased', return_train_score=False,\n",
              "                   scoring={'Accuracy': make_scorer(accuracy_score),\n",
              "                            'Recall': make_scorer(<lambda>),\n",
              "                            'Recall_on_deceased': make_scorer(<lambda>)},\n",
              "                   verbose=0)"
            ]
          },
          "metadata": {
            "tags": []
          },
          "execution_count": 44
        }
      ]
    },
    {
      "cell_type": "code",
      "metadata": {
        "colab": {
          "base_uri": "https://localhost:8080/"
        },
        "id": "M7xh_6hibiQy",
        "outputId": "86a091da-355a-4997-a102-a76b870fb26a"
      },
      "source": [
        "def report(results, n_top = 5):\r\n",
        "    for i in range(1, n_top + 1):\r\n",
        "        candidates = np.flatnonzero(results['rank_test_Recall_on_deceased'] == i)\r\n",
        "        for candidate in candidates:\r\n",
        "            print(\"Model with rank: {0}\".format(i))\r\n",
        "            print(\"Accuracy: {0:.3f}\".format(results['mean_test_Accuracy'][candidate]))\r\n",
        "            print(\"Overall recall: {0:.3f}\".format(results['mean_test_Recall'][candidate]))\r\n",
        "            print(\"Recall on 'deceased': {0:.3f}\".format(results['mean_test_Recall_on_deceased'][candidate]))\r\n",
        "            print(\"Parameters: {0}\".format(results['params'][candidate]))\r\n",
        "            print(\"\")\r\n",
        "\r\n",
        "report(random_search.cv_results_)"
      ],
      "execution_count": null,
      "outputs": [
        {
          "output_type": "stream",
          "text": [
            "Model with rank: 1\n",
            "Accuracy: 0.736\n",
            "Overall recall: 0.736\n",
            "Recall on 'deceased': 0.049\n",
            "Parameters: {'base_estimator__max_depth': 87, 'learning_rate': 0.7059172808517837, 'n_estimators': 119}\n",
            "\n",
            "Model with rank: 2\n",
            "Accuracy: 0.738\n",
            "Overall recall: 0.738\n",
            "Recall on 'deceased': 0.049\n",
            "Parameters: {'base_estimator__max_depth': 198, 'learning_rate': 0.13262494788621962, 'n_estimators': 104}\n",
            "\n",
            "Model with rank: 3\n",
            "Accuracy: 0.738\n",
            "Overall recall: 0.738\n",
            "Recall on 'deceased': 0.049\n",
            "Parameters: {'base_estimator__max_depth': 146, 'learning_rate': 0.2214340755857919, 'n_estimators': 51}\n",
            "\n",
            "Model with rank: 4\n",
            "Accuracy: 0.737\n",
            "Overall recall: 0.737\n",
            "Recall on 'deceased': 0.048\n",
            "Parameters: {'base_estimator__max_depth': 192, 'learning_rate': 0.8548604398687231, 'n_estimators': 213}\n",
            "\n",
            "Model with rank: 5\n",
            "Accuracy: 0.740\n",
            "Overall recall: 0.740\n",
            "Recall on 'deceased': 0.047\n",
            "Parameters: {'base_estimator__max_depth': 138, 'learning_rate': 1.042908023887684, 'n_estimators': 53}\n",
            "\n"
          ],
          "name": "stdout"
        }
      ]
    },
    {
      "cell_type": "code",
      "metadata": {
        "id": "WkWgPRQDvCL6",
        "colab": {
          "base_uri": "https://localhost:8080/"
        },
        "outputId": "e27c63ba-f568-4f77-9479-445e18a5ebe1"
      },
      "source": [
        "from collections import Counter\r\n",
        "Counter(random_search.predict(X_train))"
      ],
      "execution_count": null,
      "outputs": [
        {
          "output_type": "execute_result",
          "data": {
            "text/plain": [
              "Counter({0: 3696, 1: 148140, 2: 109816, 3: 70693})"
            ]
          },
          "metadata": {
            "tags": []
          },
          "execution_count": 46
        }
      ]
    },
    {
      "cell_type": "code",
      "metadata": {
        "id": "ODborJZ2vG_Y",
        "colab": {
          "base_uri": "https://localhost:8080/"
        },
        "outputId": "38edf021-7b3e-4e13-be64-bee013604e11"
      },
      "source": [
        "random_search.cv_results_['mean_test_Recall_on_deceased']"
      ],
      "execution_count": null,
      "outputs": [
        {
          "output_type": "execute_result",
          "data": {
            "text/plain": [
              "array([0.04700008, 0.049323  , 0.04364258, 0.04751788, 0.04338518,\n",
              "       0.04441677, 0.049325  , 0.0488092 , 0.04209486, 0.04622222])"
            ]
          },
          "metadata": {
            "tags": []
          },
          "execution_count": 47
        }
      ]
    },
    {
      "cell_type": "code",
      "metadata": {
        "id": "npfJtDHk2syS"
      },
      "source": [
        "import pickle\r\n",
        "ada_pkl = './ADA_rsCV.pkl'\r\n",
        "pickle.dump(random_search.best_estimator_, open(ada_pkl, 'wb'))"
      ],
      "execution_count": null,
      "outputs": []
    }
  ]
}