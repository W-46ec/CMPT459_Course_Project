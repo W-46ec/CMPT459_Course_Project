{
 "cells": [
  {
   "cell_type": "code",
   "execution_count": 1,
   "metadata": {},
   "outputs": [],
   "source": [
    "import numpy as np\n",
    "import pandas as pd\n",
    "import scipy.stats as stats\n",
    "from scipy.stats import randint\n",
    "from time import time\n",
    "from sklearn.ensemble import AdaBoostClassifier\n",
    "from sklearn.model_selection import RandomizedSearchCV\n",
    "from sklearn.metrics import make_scorer, accuracy_score, recall_score"
   ]
  },
  {
   "cell_type": "code",
   "execution_count": 2,
   "metadata": {},
   "outputs": [],
   "source": [
    "X_train_inputfile = \"../dataset/3.1_X_train.csv.gz\"\n",
    "X_valid_inputfile = \"../dataset/3.1_X_valid.csv.gz\"\n",
    "y_train_inputfile = \"../dataset/3.1_y_train.csv.gz\"\n",
    "y_valid_inputfile = \"../dataset/3.1_y_valid.csv.gz\"\n",
    "X_train = pd.read_csv(X_train_inputfile)\n",
    "X_valid = pd.read_csv(X_valid_inputfile)\n",
    "y_train = pd.read_csv(y_train_inputfile).transpose().values[0]\n",
    "y_valid = pd.read_csv(y_valid_inputfile).transpose().values[0]"
   ]
  },
  {
   "cell_type": "code",
   "execution_count": 3,
   "metadata": {},
   "outputs": [],
   "source": [
    "ada_model = AdaBoostClassifier()"
   ]
  },
  {
   "cell_type": "code",
   "execution_count": 4,
   "metadata": {},
   "outputs": [],
   "source": [
    "param_dist = {\n",
    "    'n_estimators': randint(50, 301),\n",
    "    'learning_rate': stats.uniform(0.001, 1),\n",
    "    'algorithm': ['SAMME', 'SAMME.R']\n",
    "}"
   ]
  },
  {
   "cell_type": "code",
   "execution_count": 5,
   "metadata": {},
   "outputs": [],
   "source": [
    "n_iter_search = 3"
   ]
  },
  {
   "cell_type": "code",
   "execution_count": 6,
   "metadata": {},
   "outputs": [],
   "source": [
    "def _recall_on_deceased(y, y_pred, **kwargs):\n",
    "    y_series = pd.Series(y)\n",
    "    y_deceased = y_series[y_series == 0]\n",
    "    y_pred_deceased = pd.Series(y_pred)[y_deceased.index]\n",
    "    return recall_score(\n",
    "        y_true = y_deceased, \n",
    "        y_pred = y_pred_deceased, \n",
    "        average = 'micro'\n",
    "    )\n",
    "\n",
    "scoring = {\n",
    "    'Accuracy': make_scorer(accuracy_score), \n",
    "    'Recall': make_scorer(\n",
    "        lambda y, y_pred, **kwargs:\n",
    "            recall_score(\n",
    "                y_true = y, \n",
    "                y_pred = y_pred, \n",
    "                average = 'micro'\n",
    "            )\n",
    "    ), \n",
    "    'Recall_on_deceased': make_scorer(\n",
    "        lambda y, y_pred, **kwargs:\n",
    "            _recall_on_deceased(y, y_pred, **kwargs)\n",
    "    )\n",
    "}"
   ]
  },
  {
   "cell_type": "code",
   "execution_count": 7,
   "metadata": {},
   "outputs": [],
   "source": [
    "random_search = RandomizedSearchCV(\n",
    "    ada_model, \n",
    "    param_distributions = param_dist, \n",
    "    n_iter = n_iter_search, \n",
    "    n_jobs = -1, \n",
    "    scoring = scoring, \n",
    "    refit = 'Recall_on_deceased'\n",
    ")"
   ]
  },
  {
   "cell_type": "code",
   "execution_count": 8,
   "metadata": {},
   "outputs": [
    {
     "name": "stdout",
     "output_type": "stream",
     "text": [
      "Wall time: 12min 54s\n"
     ]
    },
    {
     "data": {
      "text/plain": [
       "RandomizedSearchCV(estimator=AdaBoostClassifier(), n_iter=3, n_jobs=-1,\n",
       "                   param_distributions={'algorithm': ['SAMME', 'SAMME.R'],\n",
       "                                        'learning_rate': <scipy.stats._distn_infrastructure.rv_frozen object at 0x10D59770>,\n",
       "                                        'n_estimators': <scipy.stats._distn_infrastructure.rv_frozen object at 0x10D596D0>},\n",
       "                   refit='Recall_on_deceased',\n",
       "                   scoring={'Accuracy': make_scorer(accuracy_score),\n",
       "                            'Recall': make_scorer(<lambda>),\n",
       "                            'Recall_on_deceased': make_scorer(<lambda>)})"
      ]
     },
     "execution_count": 8,
     "metadata": {},
     "output_type": "execute_result"
    }
   ],
   "source": [
    "%time random_search.fit(X_train, y_train)"
   ]
  },
  {
   "cell_type": "code",
   "execution_count": 9,
   "metadata": {},
   "outputs": [
    {
     "data": {
      "text/plain": [
       "{'mean_fit_time': array([115.17695956,  94.05170364, 213.80398779]),\n",
       " 'std_fit_time': array([ 1.1940724 ,  3.36383274, 40.97116076]),\n",
       " 'mean_score_time': array([ 4.38477325,  3.31449208, 11.4814754 ]),\n",
       " 'std_score_time': array([0.13919355, 0.12028645, 2.33911772]),\n",
       " 'param_algorithm': masked_array(data=['SAMME', 'SAMME', 'SAMME.R'],\n",
       "              mask=[False, False, False],\n",
       "        fill_value='?',\n",
       "             dtype=object),\n",
       " 'param_learning_rate': masked_array(data=[0.15018393631299687, 0.5446477260341165,\n",
       "                    0.19150210192969064],\n",
       "              mask=[False, False, False],\n",
       "        fill_value='?',\n",
       "             dtype=object),\n",
       " 'param_n_estimators': masked_array(data=[147, 127, 275],\n",
       "              mask=[False, False, False],\n",
       "        fill_value='?',\n",
       "             dtype=object),\n",
       " 'params': [{'algorithm': 'SAMME',\n",
       "   'learning_rate': 0.15018393631299687,\n",
       "   'n_estimators': 147},\n",
       "  {'algorithm': 'SAMME',\n",
       "   'learning_rate': 0.5446477260341165,\n",
       "   'n_estimators': 127},\n",
       "  {'algorithm': 'SAMME.R',\n",
       "   'learning_rate': 0.19150210192969064,\n",
       "   'n_estimators': 275}],\n",
       " 'split0_test_Accuracy': array([0.77547428, 0.77273616, 0.75930133]),\n",
       " 'split1_test_Accuracy': array([0.77463178, 0.771668  , 0.75951195]),\n",
       " 'split2_test_Accuracy': array([0.77548933, 0.77258572, 0.75600656]),\n",
       " 'split3_test_Accuracy': array([0.77538401, 0.77311228, 0.76187396]),\n",
       " 'split4_test_Accuracy': array([0.77551942, 0.77198393, 0.75705968]),\n",
       " 'mean_test_Accuracy': array([0.77529976, 0.77241722, 0.7587507 ]),\n",
       " 'std_test_Accuracy': array([0.00033703, 0.00052198, 0.00205072]),\n",
       " 'rank_test_Accuracy': array([1, 2, 3], dtype=int32),\n",
       " 'split0_test_Recall': array([0.77547428, 0.77273616, 0.75930133]),\n",
       " 'split1_test_Recall': array([0.77463178, 0.771668  , 0.75951195]),\n",
       " 'split2_test_Recall': array([0.77548933, 0.77258572, 0.75600656]),\n",
       " 'split3_test_Recall': array([0.77538401, 0.77311228, 0.76187396]),\n",
       " 'split4_test_Recall': array([0.77551942, 0.77198393, 0.75705968]),\n",
       " 'mean_test_Recall': array([0.77529976, 0.77241722, 0.7587507 ]),\n",
       " 'std_test_Recall': array([0.00033703, 0.00052198, 0.00205072]),\n",
       " 'rank_test_Recall': array([1, 2, 3], dtype=int32),\n",
       " 'split0_test_Recall_on_deceased': array([0., 0., 0.]),\n",
       " 'split1_test_Recall_on_deceased': array([0., 0., 0.]),\n",
       " 'split2_test_Recall_on_deceased': array([0., 0., 0.]),\n",
       " 'split3_test_Recall_on_deceased': array([0.        , 0.        , 0.00774194]),\n",
       " 'split4_test_Recall_on_deceased': array([0., 0., 0.]),\n",
       " 'mean_test_Recall_on_deceased': array([0.        , 0.        , 0.00154839]),\n",
       " 'std_test_Recall_on_deceased': array([0.        , 0.        , 0.00309677]),\n",
       " 'rank_test_Recall_on_deceased': array([2, 2, 1], dtype=int32)}"
      ]
     },
     "execution_count": 9,
     "metadata": {},
     "output_type": "execute_result"
    }
   ],
   "source": [
    "random_search.cv_results_"
   ]
  },
  {
   "cell_type": "code",
   "execution_count": 10,
   "metadata": {},
   "outputs": [],
   "source": [
    "def report(results, n_top = 5):\n",
    "    for i in range(1, n_top + 1):\n",
    "        candidates = np.flatnonzero(results['rank_test_Recall_on_deceased'] == i)\n",
    "        for candidate in candidates:\n",
    "            print(\"Model with rank: {0}\".format(i))\n",
    "            print(\"Accuracy: {0:.3f}\".format(results['mean_test_Accuracy'][candidate]))\n",
    "            print(\"Overall recall: {0:.3f}\".format(results['mean_test_Recall'][candidate]))\n",
    "            print(\"Recall on 'deceased': {0:.3f}\".format(results['mean_test_Recall_on_deceased'][candidate]))\n",
    "            print(\"Parameters: {0}\".format(results['params'][candidate]))\n",
    "            print(\"\")"
   ]
  },
  {
   "cell_type": "code",
   "execution_count": 11,
   "metadata": {},
   "outputs": [
    {
     "name": "stdout",
     "output_type": "stream",
     "text": [
      "Model with rank: 1\n",
      "Accuracy: 0.759\n",
      "Overall recall: 0.759\n",
      "Recall on 'deceased': 0.002\n",
      "Parameters: {'algorithm': 'SAMME.R', 'learning_rate': 0.19150210192969064, 'n_estimators': 275}\n",
      "\n",
      "Model with rank: 2\n",
      "Accuracy: 0.775\n",
      "Overall recall: 0.775\n",
      "Recall on 'deceased': 0.000\n",
      "Parameters: {'algorithm': 'SAMME', 'learning_rate': 0.15018393631299687, 'n_estimators': 147}\n",
      "\n",
      "Model with rank: 2\n",
      "Accuracy: 0.772\n",
      "Overall recall: 0.772\n",
      "Recall on 'deceased': 0.000\n",
      "Parameters: {'algorithm': 'SAMME', 'learning_rate': 0.5446477260341165, 'n_estimators': 127}\n",
      "\n"
     ]
    }
   ],
   "source": [
    "report(random_search.cv_results_, 3)"
   ]
  },
  {
   "cell_type": "code",
   "execution_count": null,
   "metadata": {},
   "outputs": [],
   "source": []
  }
 ],
 "metadata": {
  "kernelspec": {
   "display_name": "Python 3",
   "language": "python",
   "name": "python3"
  },
  "language_info": {
   "codemirror_mode": {
    "name": "ipython",
    "version": 3
   },
   "file_extension": ".py",
   "mimetype": "text/x-python",
   "name": "python",
   "nbconvert_exporter": "python",
   "pygments_lexer": "ipython3",
   "version": "3.6.1"
  }
 },
 "nbformat": 4,
 "nbformat_minor": 4
}
