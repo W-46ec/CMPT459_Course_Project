{
 "cells": [
  {
   "cell_type": "code",
   "execution_count": 1,
   "metadata": {
    "colab": {
     "base_uri": "https://localhost:8080/"
    },
    "id": "B_MDdgplLAhz",
    "outputId": "52fba2d8-71dd-46c5-8153-60b97c70d0d5"
   },
   "outputs": [
    {
     "name": "stdout",
     "output_type": "stream",
     "text": [
      "Mounted at /content/drive\n"
     ]
    }
   ],
   "source": [
    "from google.colab import drive\n",
    "drive.mount('/content/drive', force_remount = False)"
   ]
  },
  {
   "cell_type": "code",
   "execution_count": 2,
   "metadata": {
    "id": "uPSWj2ppMEMd"
   },
   "outputs": [],
   "source": [
    "import os\n",
    "base_path = \"/content/drive/My Drive/CMPT459_Dataset/\"\n",
    "os.chdir(base_path);"
   ]
  },
  {
   "cell_type": "code",
   "execution_count": 3,
   "metadata": {
    "id": "DbyRU4L2MNmd"
   },
   "outputs": [],
   "source": [
    "import numpy as np\n",
    "import pandas as pd\n",
    "import scipy.stats as stats\n",
    "from scipy.stats import randint\n",
    "from time import time\n",
    "from sklearn.neighbors import KNeighborsClassifier\n",
    "from sklearn.model_selection import GridSearchCV\n",
    "from sklearn.metrics import make_scorer, accuracy_score, recall_score\n",
    "import pickle\n",
    "from pprint import pprint"
   ]
  },
  {
   "cell_type": "code",
   "execution_count": 4,
   "metadata": {
    "id": "rN7UICXvMOst"
   },
   "outputs": [],
   "source": [
    "X_train_inputfile = \"./3.1_X_train.csv.gz\"\n",
    "X_valid_inputfile = \"./3.1_X_valid.csv.gz\"\n",
    "y_train_inputfile = \"./3.1_y_train.csv.gz\"\n",
    "y_valid_inputfile = \"./3.1_y_valid.csv.gz\"\n",
    "X_train = pd.read_csv(X_train_inputfile)\n",
    "X_valid = pd.read_csv(X_valid_inputfile)\n",
    "y_train = pd.read_csv(y_train_inputfile).transpose().values[0]\n",
    "y_valid = pd.read_csv(y_valid_inputfile).transpose().values[0]"
   ]
  },
  {
   "cell_type": "code",
   "execution_count": 5,
   "metadata": {
    "id": "L3yDIbEmMQil"
   },
   "outputs": [],
   "source": [
    "knn_model = KNeighborsClassifier(\n",
    "    algorithm = 'auto', \n",
    "    weights = 'distance'\n",
    ")"
   ]
  },
  {
   "cell_type": "code",
   "execution_count": 6,
   "metadata": {
    "id": "MHyaYCWZMSSd"
   },
   "outputs": [],
   "source": [
    "param_dist = {\n",
    "    'n_neighbors': range(1, 44, 3), \n",
    "    'p': range(1, 4), \n",
    "    'leaf_size': range(350, 451, 15)\n",
    "}"
   ]
  },
  {
   "cell_type": "code",
   "execution_count": 7,
   "metadata": {
    "id": "HPzkdoUeMrbT"
   },
   "outputs": [],
   "source": [
    "def _recall_on_deceased(y, y_pred, **kwargs):\n",
    "    y_series = pd.Series(y)\n",
    "    y_deceased = y_series[y_series == 0]\n",
    "    y_pred_deceased = pd.Series(y_pred)[y_deceased.index]\n",
    "    return recall_score(\n",
    "        y_true = y_deceased, \n",
    "        y_pred = y_pred_deceased, \n",
    "        average = 'micro'\n",
    "    )\n",
    "\n",
    "scoring = {\n",
    "    'Accuracy': make_scorer(accuracy_score), \n",
    "    'Recall': make_scorer(\n",
    "        lambda y, y_pred, **kwargs:\n",
    "            recall_score(\n",
    "                y_true = y, \n",
    "                y_pred = y_pred, \n",
    "                average = 'micro'\n",
    "            )\n",
    "    ), \n",
    "    'Recall_on_deceased': make_scorer(\n",
    "        lambda y, y_pred, **kwargs:\n",
    "            _recall_on_deceased(y, y_pred, **kwargs)\n",
    "    )\n",
    "}"
   ]
  },
  {
   "cell_type": "code",
   "execution_count": 8,
   "metadata": {
    "id": "NImZI2_QMuWy"
   },
   "outputs": [],
   "source": [
    "grid_search = GridSearchCV(\n",
    "    knn_model, \n",
    "    param_grid = param_dist, \n",
    "    n_jobs = -1, \n",
    "    pre_dispatch = '2*n_jobs', \n",
    "    scoring = scoring, \n",
    "    refit = 'Recall_on_deceased'\n",
    ")"
   ]
  },
  {
   "cell_type": "code",
   "execution_count": null,
   "metadata": {
    "id": "sjd_ZgYuM5vn"
   },
   "outputs": [],
   "source": [
    "%time grid_search.fit(X_train, y_train)"
   ]
  },
  {
   "cell_type": "code",
   "execution_count": null,
   "metadata": {
    "id": "s4kyFDnYXkio"
   },
   "outputs": [],
   "source": [
    "def report(results, n_top = 5):\n",
    "    for i in range(1, n_top + 1):\n",
    "        candidates = np.flatnonzero(results['rank_test_Recall_on_deceased'] == i)\n",
    "        for candidate in candidates:\n",
    "            print(\"Model with rank: {0}\".format(i))\n",
    "            print(\"Accuracy: {0:.3f}\".format(results['mean_test_Accuracy'][candidate]))\n",
    "            print(\"Overall recall: {0:.3f}\".format(results['mean_test_Recall'][candidate]))\n",
    "            print(\"Recall on 'deceased': {0:.3f}\".format(results['mean_test_Recall_on_deceased'][candidate]))\n",
    "            print(\"Parameters: {0}\".format(results['params'][candidate]))\n",
    "            print(\"\")"
   ]
  },
  {
   "cell_type": "code",
   "execution_count": null,
   "metadata": {
    "id": "h2T04BLfXsJb"
   },
   "outputs": [],
   "source": [
    "report(grid_search.cv_results_, 20)"
   ]
  },
  {
   "cell_type": "code",
   "execution_count": null,
   "metadata": {
    "id": "pWGDqVVdgXkZ"
   },
   "outputs": [],
   "source": [
    "pprint(grid_search.cv_results_)"
   ]
  },
  {
   "cell_type": "code",
   "execution_count": null,
   "metadata": {
    "id": "6oh0kHqDhCd2"
   },
   "outputs": [],
   "source": [
    "print(grid_search.best_estimator_)"
   ]
  },
  {
   "cell_type": "code",
   "execution_count": null,
   "metadata": {
    "id": "7v9aTTD2YKJ4"
   },
   "outputs": [],
   "source": [
    "# from sklearn.externals import joblib\n",
    "# joblib.dump(grid_search.best_estimator_, 'knn_classifier_all.pkl')"
   ]
  },
  {
   "cell_type": "code",
   "execution_count": null,
   "metadata": {
    "id": "whA3a90bZ9HB"
   },
   "outputs": [],
   "source": [
    "knn_pkl = './KNN_GridSearch_Best.pkl'\n",
    "pickle.dump(grid_search.best_estimator_, open(knn_pkl, 'wb'))"
   ]
  },
  {
   "cell_type": "code",
   "execution_count": null,
   "metadata": {
    "id": "D1kr_hLGbjEj"
   },
   "outputs": [],
   "source": []
  }
 ],
 "metadata": {
  "colab": {
   "collapsed_sections": [],
   "name": "3.1_KNN_Tuning_GridSearch.ipynb",
   "provenance": []
  },
  "kernelspec": {
   "display_name": "Python 3",
   "language": "python",
   "name": "python3"
  },
  "language_info": {
   "codemirror_mode": {
    "name": "ipython",
    "version": 3
   },
   "file_extension": ".py",
   "mimetype": "text/x-python",
   "name": "python",
   "nbconvert_exporter": "python",
   "pygments_lexer": "ipython3",
   "version": "3.6.1"
  }
 },
 "nbformat": 4,
 "nbformat_minor": 1
}
